{
 "cells": [
  {
   "cell_type": "markdown",
   "id": "33a66a57",
   "metadata": {},
   "source": [
    "# Code Assignment 2.1"
   ]
  },
  {
   "cell_type": "markdown",
   "id": "c81b5e69",
   "metadata": {},
   "source": [
    "#### By Matthew Stange and started on March 9th, 2023"
   ]
  },
  {
   "cell_type": "markdown",
   "id": "6d75cb94",
   "metadata": {},
   "source": [
    "This my second attempt, but this time with the program in the G2MAssignment folder."
   ]
  },
  {
   "cell_type": "markdown",
   "id": "315a8da8",
   "metadata": {},
   "source": [
    "This is my second attempt at using Jupyter Notebook to complete the Cab Assignment for the Data Glacier Internship. I am using '[How to Use Jupyter Notebook: A Beginner's Tutorial](https://www.dataquest.io/blog/jupyter-notebook-tutorial/)' as a guide."
   ]
  },
  {
   "cell_type": "code",
   "execution_count": 4,
   "id": "19f74600",
   "metadata": {},
   "outputs": [],
   "source": [
    "%matplotlib inline\n",
    "import pandas as pd\n",
    "import matplotlib.pyplot as plt\n",
    "import seaborn as sns"
   ]
  },
  {
   "cell_type": "code",
   "execution_count": 5,
   "id": "2e99798e",
   "metadata": {},
   "outputs": [],
   "source": [
    "df = pd.read_csv('Cab_Data.csv')"
   ]
  },
  {
   "cell_type": "code",
   "execution_count": 6,
   "id": "c29de859",
   "metadata": {},
   "outputs": [
    {
     "data": {
      "text/html": [
       "<div>\n",
       "<style scoped>\n",
       "    .dataframe tbody tr th:only-of-type {\n",
       "        vertical-align: middle;\n",
       "    }\n",
       "\n",
       "    .dataframe tbody tr th {\n",
       "        vertical-align: top;\n",
       "    }\n",
       "\n",
       "    .dataframe thead th {\n",
       "        text-align: right;\n",
       "    }\n",
       "</style>\n",
       "<table border=\"1\" class=\"dataframe\">\n",
       "  <thead>\n",
       "    <tr style=\"text-align: right;\">\n",
       "      <th></th>\n",
       "      <th>Transaction ID</th>\n",
       "      <th>Date of Travel</th>\n",
       "      <th>Company</th>\n",
       "      <th>City</th>\n",
       "      <th>KM Travelled</th>\n",
       "      <th>Price Charged</th>\n",
       "      <th>Cost of Trip</th>\n",
       "    </tr>\n",
       "  </thead>\n",
       "  <tbody>\n",
       "    <tr>\n",
       "      <th>0</th>\n",
       "      <td>10000011</td>\n",
       "      <td>42377</td>\n",
       "      <td>Pink Cab</td>\n",
       "      <td>ATLANTA GA</td>\n",
       "      <td>30.45</td>\n",
       "      <td>370.95</td>\n",
       "      <td>313.635</td>\n",
       "    </tr>\n",
       "    <tr>\n",
       "      <th>1</th>\n",
       "      <td>10000012</td>\n",
       "      <td>42375</td>\n",
       "      <td>Pink Cab</td>\n",
       "      <td>ATLANTA GA</td>\n",
       "      <td>28.62</td>\n",
       "      <td>358.52</td>\n",
       "      <td>334.854</td>\n",
       "    </tr>\n",
       "    <tr>\n",
       "      <th>2</th>\n",
       "      <td>10000013</td>\n",
       "      <td>42371</td>\n",
       "      <td>Pink Cab</td>\n",
       "      <td>ATLANTA GA</td>\n",
       "      <td>9.04</td>\n",
       "      <td>125.20</td>\n",
       "      <td>97.632</td>\n",
       "    </tr>\n",
       "    <tr>\n",
       "      <th>3</th>\n",
       "      <td>10000014</td>\n",
       "      <td>42376</td>\n",
       "      <td>Pink Cab</td>\n",
       "      <td>ATLANTA GA</td>\n",
       "      <td>33.17</td>\n",
       "      <td>377.40</td>\n",
       "      <td>351.602</td>\n",
       "    </tr>\n",
       "    <tr>\n",
       "      <th>4</th>\n",
       "      <td>10000015</td>\n",
       "      <td>42372</td>\n",
       "      <td>Pink Cab</td>\n",
       "      <td>ATLANTA GA</td>\n",
       "      <td>8.73</td>\n",
       "      <td>114.62</td>\n",
       "      <td>97.776</td>\n",
       "    </tr>\n",
       "  </tbody>\n",
       "</table>\n",
       "</div>"
      ],
      "text/plain": [
       "   Transaction ID  Date of Travel   Company        City  KM Travelled  \\\n",
       "0        10000011           42377  Pink Cab  ATLANTA GA         30.45   \n",
       "1        10000012           42375  Pink Cab  ATLANTA GA         28.62   \n",
       "2        10000013           42371  Pink Cab  ATLANTA GA          9.04   \n",
       "3        10000014           42376  Pink Cab  ATLANTA GA         33.17   \n",
       "4        10000015           42372  Pink Cab  ATLANTA GA          8.73   \n",
       "\n",
       "   Price Charged  Cost of Trip  \n",
       "0         370.95       313.635  \n",
       "1         358.52       334.854  \n",
       "2         125.20        97.632  \n",
       "3         377.40       351.602  \n",
       "4         114.62        97.776  "
      ]
     },
     "execution_count": 6,
     "metadata": {},
     "output_type": "execute_result"
    }
   ],
   "source": [
    "df.head()"
   ]
  },
  {
   "cell_type": "markdown",
   "id": "8ece34a0",
   "metadata": {},
   "source": [
    "The above is a test to see if the data is accessible, which it appears to be. I have this in a folder that contains all of the CSV fils that are needed for this project. I thought I was using a notebook before, but it must be something else as it wasn't allowing me to access the other files in the folder. Glad to see it working now."
   ]
  },
  {
   "cell_type": "markdown",
   "id": "6d04a7d2",
   "metadata": {},
   "source": [
    "Also to note, knowing keyboard shortcuts is very handy when using Jupyter notebooks and some useful ones are\n",
    "* ESC takes you out of an active cell, which you need to be out of to do a command on the cell\n",
    "* Enter puts you into an active cell\n",
    "* 'a' inserts a new cell 'a'bove the selected cell\n",
    "* 'b' inserts a new cell 'b'elow the selected cell\n",
    "* The up and down arrows change which cell is selected\n",
    "* 'm' designates a cell to be markdown\n",
    "* 'v' designates the cell to be code\n",
    "* '# ' in markdown gives a main header, and more #'s reduces the size of the header\n",
    "\n",
    "This are all of the useful shortcuts I know so far, but they are very handy to know."
   ]
  },
  {
   "cell_type": "markdown",
   "id": "bdfd7ee4",
   "metadata": {},
   "source": [
    "Oh! And '*' creates lists and numbers creates numbered lists"
   ]
  },
  {
   "cell_type": "markdown",
   "id": "001231a8",
   "metadata": {},
   "source": [
    "---"
   ]
  },
  {
   "cell_type": "markdown",
   "id": "e3b87c9e",
   "metadata": {},
   "source": [
    "Next, putting the data from our CSV files in a database seems like the best next move. Databases allow for easy manipulation of the data and it is also a way to store information, which is what we would want to do if this was actual data coming in to our business and we want to be able to access that information.\n",
    "\n",
    "First, we need to setup a SQL server to store our data and from where we can query from. To do this, I am refering to a [Medium](https://towardsdatascience.com/how-to-run-sql-queries-from-a-jupyter-notebook-aaa18e59e7bc) article that shows how to setup a SQL server and access that from Jupyter Notebook, or that's what it seems like it is doing. However, that only allows for the data to be inputted manually and accessed, there's no instructions on how to automate the process for a CSV file. This is where an article from [Data to Fish](https://datatofish.com/import-csv-sql-server-python/) comes in to show how Python can automate the process. "
   ]
  },
  {
   "cell_type": "code",
   "execution_count": 7,
   "id": "30e40d56",
   "metadata": {},
   "outputs": [
    {
     "name": "stdout",
     "output_type": "stream",
     "text": [
      "Requirement already satisfied: ipython-sql in c:\\users\\dave\\anaconda3\\lib\\site-packages (0.5.0)\n",
      "Requirement already satisfied: six in c:\\users\\dave\\anaconda3\\lib\\site-packages (from ipython-sql) (1.16.0)\n",
      "Requirement already satisfied: ipython-genutils in c:\\users\\dave\\anaconda3\\lib\\site-packages (from ipython-sql) (0.2.0)\n",
      "Requirement already satisfied: prettytable in c:\\users\\dave\\anaconda3\\lib\\site-packages (from ipython-sql) (3.6.0)\n",
      "Requirement already satisfied: sqlparse in c:\\users\\dave\\anaconda3\\lib\\site-packages (from ipython-sql) (0.4.3)\n",
      "Requirement already satisfied: ipython in c:\\users\\dave\\anaconda3\\lib\\site-packages (from ipython-sql) (7.31.1)\n",
      "Requirement already satisfied: sqlalchemy>=2.0 in c:\\users\\dave\\anaconda3\\lib\\site-packages (from ipython-sql) (2.0.5.post1)\n",
      "Requirement already satisfied: typing-extensions>=4.2.0 in c:\\users\\dave\\anaconda3\\lib\\site-packages (from sqlalchemy>=2.0->ipython-sql) (4.3.0)\n",
      "Requirement already satisfied: greenlet!=0.4.17 in c:\\users\\dave\\anaconda3\\lib\\site-packages (from sqlalchemy>=2.0->ipython-sql) (1.1.1)\n",
      "Requirement already satisfied: setuptools>=18.5 in c:\\users\\dave\\anaconda3\\lib\\site-packages (from ipython->ipython-sql) (63.4.1)\n",
      "Requirement already satisfied: pickleshare in c:\\users\\dave\\anaconda3\\lib\\site-packages (from ipython->ipython-sql) (0.7.5)\n",
      "Requirement already satisfied: decorator in c:\\users\\dave\\anaconda3\\lib\\site-packages (from ipython->ipython-sql) (5.1.1)\n",
      "Requirement already satisfied: matplotlib-inline in c:\\users\\dave\\anaconda3\\lib\\site-packages (from ipython->ipython-sql) (0.1.6)\n",
      "Requirement already satisfied: colorama in c:\\users\\dave\\anaconda3\\lib\\site-packages (from ipython->ipython-sql) (0.4.5)\n",
      "Requirement already satisfied: pygments in c:\\users\\dave\\anaconda3\\lib\\site-packages (from ipython->ipython-sql) (2.11.2)\n",
      "Requirement already satisfied: prompt-toolkit!=3.0.0,!=3.0.1,<3.1.0,>=2.0.0 in c:\\users\\dave\\anaconda3\\lib\\site-packages (from ipython->ipython-sql) (3.0.20)\n",
      "Requirement already satisfied: jedi>=0.16 in c:\\users\\dave\\anaconda3\\lib\\site-packages (from ipython->ipython-sql) (0.18.1)\n",
      "Requirement already satisfied: backcall in c:\\users\\dave\\anaconda3\\lib\\site-packages (from ipython->ipython-sql) (0.2.0)\n",
      "Requirement already satisfied: traitlets>=4.2 in c:\\users\\dave\\anaconda3\\lib\\site-packages (from ipython->ipython-sql) (5.1.1)\n",
      "Requirement already satisfied: wcwidth in c:\\users\\dave\\anaconda3\\lib\\site-packages (from prettytable->ipython-sql) (0.2.5)\n",
      "Requirement already satisfied: parso<0.9.0,>=0.8.0 in c:\\users\\dave\\anaconda3\\lib\\site-packages (from jedi>=0.16->ipython->ipython-sql) (0.8.3)\n"
     ]
    }
   ],
   "source": [
    "# Connecting Python to SQL server\n",
    "\n",
    "!pip install ipython-sql\n",
    "%load_ext sql\n",
    "%sql sqlite://"
   ]
  },
  {
   "cell_type": "code",
   "execution_count": 8,
   "id": "7d1f2f3f",
   "metadata": {},
   "outputs": [
    {
     "name": "stdout",
     "output_type": "stream",
     "text": [
      " * sqlite://\n",
      "Done.\n",
      "3 rows affected.\n"
     ]
    },
    {
     "data": {
      "text/plain": [
       "[]"
      ]
     },
     "execution_count": 8,
     "metadata": {},
     "output_type": "execute_result"
    }
   ],
   "source": [
    "%%sql\n",
    "CREATE TABLE sales\n",
    "(\n",
    "    key   varchar(6)\n",
    ");\n",
    "INSERT INTO sales\n",
    "VALUES ('sale_1'),\n",
    "    ('sale_2'),\n",
    "    ('sale_3');"
   ]
  },
  {
   "cell_type": "code",
   "execution_count": 9,
   "id": "2985f466",
   "metadata": {},
   "outputs": [
    {
     "name": "stdout",
     "output_type": "stream",
     "text": [
      " * sqlite://\n",
      "Done.\n"
     ]
    },
    {
     "data": {
      "text/html": [
       "<table>\n",
       "    <thead>\n",
       "        <tr>\n",
       "            <th>key</th>\n",
       "        </tr>\n",
       "    </thead>\n",
       "    <tbody>\n",
       "        <tr>\n",
       "            <td>sale_1</td>\n",
       "        </tr>\n",
       "        <tr>\n",
       "            <td>sale_2</td>\n",
       "        </tr>\n",
       "        <tr>\n",
       "            <td>sale_3</td>\n",
       "        </tr>\n",
       "    </tbody>\n",
       "</table>"
      ],
      "text/plain": [
       "[('sale_1',), ('sale_2',), ('sale_3',)]"
      ]
     },
     "execution_count": 9,
     "metadata": {},
     "output_type": "execute_result"
    }
   ],
   "source": [
    "%%sql\n",
    "select * from sales;"
   ]
  },
  {
   "cell_type": "markdown",
   "id": "32df1723",
   "metadata": {},
   "source": [
    "EUREKA! It worked!\n",
    "\n",
    "hrhr, I mean, of course it worked. Now, on to automatically importing our CSV files into appropriate tables. (In case you are unclear on what the 'sales' table is for, I just wanted to perform a test to see if it works as expected using the example that article gave, minus a bit of data. Now that it works, I'll keep this up to show that it works, but really it is of no use and can be deleted.)"
   ]
  },
  {
   "cell_type": "code",
   "execution_count": 16,
   "id": "ca409aac",
   "metadata": {},
   "outputs": [
    {
     "name": "stdout",
     "output_type": "stream",
     "text": [
      " * sqlite://\n",
      "Done.\n"
     ]
    },
    {
     "data": {
      "text/plain": [
       "[]"
      ]
     },
     "execution_count": 16,
     "metadata": {},
     "output_type": "execute_result"
    }
   ],
   "source": [
    "%%sql\n",
    "DROP TABLE sales;"
   ]
  },
  {
   "cell_type": "markdown",
   "id": "0906bf93",
   "metadata": {},
   "source": [
    "Creating a new table wasn't working, so I decided to DROP, which I understand is similar to deleting, the 'sales' table."
   ]
  },
  {
   "cell_type": "code",
   "execution_count": 11,
   "id": "48d37ef0",
   "metadata": {},
   "outputs": [
    {
     "name": "stdout",
     "output_type": "stream",
     "text": [
      "        Transaction ID  Date of Travel     Company           City  \\\n",
      "0             10000011           42377    Pink Cab     ATLANTA GA   \n",
      "1             10000012           42375    Pink Cab     ATLANTA GA   \n",
      "2             10000013           42371    Pink Cab     ATLANTA GA   \n",
      "3             10000014           42376    Pink Cab     ATLANTA GA   \n",
      "4             10000015           42372    Pink Cab     ATLANTA GA   \n",
      "...                ...             ...         ...            ...   \n",
      "359387        10440101           43108  Yellow Cab  WASHINGTON DC   \n",
      "359388        10440104           43104  Yellow Cab  WASHINGTON DC   \n",
      "359389        10440105           43105  Yellow Cab  WASHINGTON DC   \n",
      "359390        10440106           43105  Yellow Cab  WASHINGTON DC   \n",
      "359391        10440107           43102  Yellow Cab  WASHINGTON DC   \n",
      "\n",
      "        KM Travelled  Price Charged  Cost of Trip  \n",
      "0              30.45         370.95      313.6350  \n",
      "1              28.62         358.52      334.8540  \n",
      "2               9.04         125.20       97.6320  \n",
      "3              33.17         377.40      351.6020  \n",
      "4               8.73         114.62       97.7760  \n",
      "...              ...            ...           ...  \n",
      "359387          4.80          69.24       63.3600  \n",
      "359388          8.40         113.75      106.8480  \n",
      "359389         27.75         437.07      349.6500  \n",
      "359390          8.80         146.19      114.0480  \n",
      "359391         12.76         191.58      177.6192  \n",
      "\n",
      "[359392 rows x 7 columns]\n"
     ]
    }
   ],
   "source": [
    "# Import CSV\n",
    "CabData = pd.read_csv('Cab_Data.csv')\n",
    "df1 = pd.DataFrame(CabData)\n",
    "\n",
    "print(df1)"
   ]
  },
  {
   "cell_type": "code",
   "execution_count": 18,
   "id": "e90b3f4f",
   "metadata": {},
   "outputs": [
    {
     "ename": "SyntaxError",
     "evalue": "invalid syntax (195163878.py, line 3)",
     "output_type": "error",
     "traceback": [
      "\u001b[1;36m  File \u001b[1;32m\"C:\\Users\\Dave\\AppData\\Local\\Temp\\ipykernel_14012\\195163878.py\"\u001b[1;36m, line \u001b[1;32m3\u001b[0m\n\u001b[1;33m    CREATE TABLE cab_data\u001b[0m\n\u001b[1;37m           ^\u001b[0m\n\u001b[1;31mSyntaxError\u001b[0m\u001b[1;31m:\u001b[0m invalid syntax\n"
     ]
    }
   ],
   "source": [
    "# Create Table\n",
    "%%sql\n",
    "CREATE TABLE cab_data \n",
    "(\n",
    "    Transaction_ID SMALLINT(8),\n",
    "    Date_of_Travel DATE,\n",
    "    Company VARCHAR(20),\n",
    "    City VARCHAR(50),\n",
    "    KM_Travelled FLOAT(6,2),\n",
    "    Price_Charged FLOAT(8,2),\n",
    "    Cost_of_Trip FLOAT(8,2));"
   ]
  },
  {
   "cell_type": "markdown",
   "id": "31afa7de",
   "metadata": {},
   "source": [
    "Cannot figure out what's wrong with the syntax, so I copied the CREATE TABLE part when I created the sales table."
   ]
  },
  {
   "cell_type": "code",
   "execution_count": 19,
   "id": "acca77ac",
   "metadata": {},
   "outputs": [
    {
     "name": "stdout",
     "output_type": "stream",
     "text": [
      " * sqlite://\n",
      "Done.\n"
     ]
    },
    {
     "data": {
      "text/plain": [
       "[]"
      ]
     },
     "execution_count": 19,
     "metadata": {},
     "output_type": "execute_result"
    }
   ],
   "source": [
    "%%sql\n",
    "CREATE TABLE cab_data\n",
    "(\n",
    "    Company   varchar(20)\n",
    ");"
   ]
  },
  {
   "cell_type": "markdown",
   "id": "964d717f",
   "metadata": {},
   "source": [
    "This seems to have worked, now I am going to drop and then recreate the cab_data table, but this time start with the Transaction ID instead of the company. (I did Company in the above table because that had the same data type as the 'sales' table and I thought I should stick with like data types. Also, I forgot that adding columns is going to put the Company column first, which I don't want and I don't want to spend the time figuring out how to fix it, though I realize it is probably an easy fix.)"
   ]
  },
  {
   "cell_type": "code",
   "execution_count": 20,
   "id": "0b9bb2d8",
   "metadata": {},
   "outputs": [
    {
     "name": "stdout",
     "output_type": "stream",
     "text": [
      " * sqlite://\n",
      "Done.\n"
     ]
    },
    {
     "data": {
      "text/plain": [
       "[]"
      ]
     },
     "execution_count": 20,
     "metadata": {},
     "output_type": "execute_result"
    }
   ],
   "source": [
    "%%sql\n",
    "DROP TABLE cab_data;"
   ]
  },
  {
   "cell_type": "code",
   "execution_count": 21,
   "id": "f04d2eeb",
   "metadata": {},
   "outputs": [
    {
     "name": "stdout",
     "output_type": "stream",
     "text": [
      " * sqlite://\n",
      "(sqlite3.OperationalError) no such table: cab_data\n",
      "[SQL: SELECT * FROM cab_data]\n",
      "(Background on this error at: https://sqlalche.me/e/20/e3q8)\n"
     ]
    }
   ],
   "source": [
    "%%sql\n",
    "SELECT * FROM cab_data"
   ]
  },
  {
   "cell_type": "code",
   "execution_count": 22,
   "id": "d52df140",
   "metadata": {},
   "outputs": [
    {
     "name": "stdout",
     "output_type": "stream",
     "text": [
      " * sqlite://\n",
      "Done.\n"
     ]
    },
    {
     "data": {
      "text/plain": [
       "[]"
      ]
     },
     "execution_count": 22,
     "metadata": {},
     "output_type": "execute_result"
    }
   ],
   "source": [
    "%%sql\n",
    "CREATE TABLE Cab_Data\n",
    "(\n",
    "    Transaction_ID SMALLINT(8)\n",
    ");"
   ]
  },
  {
   "cell_type": "code",
   "execution_count": 28,
   "id": "a39c8372",
   "metadata": {},
   "outputs": [
    {
     "name": "stdout",
     "output_type": "stream",
     "text": [
      " * sqlite://\n",
      "Done.\n"
     ]
    },
    {
     "data": {
      "text/plain": [
       "[]"
      ]
     },
     "execution_count": 28,
     "metadata": {},
     "output_type": "execute_result"
    }
   ],
   "source": [
    "%%sql\n",
    "ALTER TABLE Cab_Data\n",
    "ADD Date_of_Travel DATE;"
   ]
  },
  {
   "cell_type": "code",
   "execution_count": 30,
   "id": "81d3801f",
   "metadata": {},
   "outputs": [
    {
     "name": "stdout",
     "output_type": "stream",
     "text": [
      " * sqlite://\n",
      "Done.\n"
     ]
    },
    {
     "data": {
      "text/plain": [
       "[]"
      ]
     },
     "execution_count": 30,
     "metadata": {},
     "output_type": "execute_result"
    }
   ],
   "source": [
    "%%sql\n",
    "ALTER TABLE Cab_Data\n",
    "ADD Company VARCHAR(20);"
   ]
  },
  {
   "cell_type": "code",
   "execution_count": 33,
   "id": "60403c63",
   "metadata": {},
   "outputs": [
    {
     "name": "stdout",
     "output_type": "stream",
     "text": [
      " * sqlite://\n",
      "Done.\n",
      "Done.\n"
     ]
    },
    {
     "data": {
      "text/plain": [
       "[]"
      ]
     },
     "execution_count": 33,
     "metadata": {},
     "output_type": "execute_result"
    }
   ],
   "source": [
    "%%sql\n",
    "ALTER TABLE Cab_Data\n",
    "ADD City VARCHAR(50);\n",
    "ALTER TABLE Cab_Data\n",
    "ADD KM_Travelled FLOAT(6,2);"
   ]
  },
  {
   "cell_type": "code",
   "execution_count": 36,
   "id": "a7d92622",
   "metadata": {},
   "outputs": [
    {
     "name": "stdout",
     "output_type": "stream",
     "text": [
      " * sqlite://\n",
      "Done.\n"
     ]
    },
    {
     "data": {
      "text/plain": [
       "[]"
      ]
     },
     "execution_count": 36,
     "metadata": {},
     "output_type": "execute_result"
    }
   ],
   "source": [
    "%%sql\n",
    "ALTER TABLE Cab_Data\n",
    "ADD Cost_of_Trip FLOAT(8,2);"
   ]
  },
  {
   "cell_type": "code",
   "execution_count": 37,
   "id": "e88e047d",
   "metadata": {},
   "outputs": [
    {
     "name": "stdout",
     "output_type": "stream",
     "text": [
      " * sqlite://\n",
      "Done.\n"
     ]
    },
    {
     "data": {
      "text/html": [
       "<table>\n",
       "    <thead>\n",
       "        <tr>\n",
       "            <th>Transaction_ID</th>\n",
       "            <th>Date_of_Travel</th>\n",
       "            <th>Company</th>\n",
       "            <th>City</th>\n",
       "            <th>KM_Travelled</th>\n",
       "            <th>Price_Charged</th>\n",
       "            <th>Cost_of_Trip</th>\n",
       "        </tr>\n",
       "    </thead>\n",
       "    <tbody>\n",
       "    </tbody>\n",
       "</table>"
      ],
      "text/plain": [
       "[]"
      ]
     },
     "execution_count": 37,
     "metadata": {},
     "output_type": "execute_result"
    }
   ],
   "source": [
    "%%sql\n",
    "SELECT * FROM Cab_Data;"
   ]
  },
  {
   "cell_type": "markdown",
   "id": "67ec2b06",
   "metadata": {},
   "source": [
    "Now the table is setup, so all that needs to be done is import the data from the CSV files."
   ]
  },
  {
   "cell_type": "markdown",
   "id": "33548136",
   "metadata": {},
   "source": [
    "Trying something else: (from [here](https://stackoverflow.com/questions/36431213/sql-statement-for-csv-files-on-ipython-notebook))"
   ]
  },
  {
   "cell_type": "code",
   "execution_count": 49,
   "id": "38e82286",
   "metadata": {},
   "outputs": [],
   "source": [
    "import sqlite3\n",
    "\n",
    "conn = sqlite3.connect(\"Cab_Assignment.db\")\n",
    "df1.to_sql('Cab_Data_3', conn)\n",
    "sql_string = 'SELECT * FROM Cab_Data_3'\n",
    "df = pd.read_sql(sql_string, conn)"
   ]
  },
  {
   "cell_type": "code",
   "execution_count": 50,
   "id": "738bf286",
   "metadata": {},
   "outputs": [
    {
     "name": "stdout",
     "output_type": "stream",
     "text": [
      " * sqlite://\n",
      "(sqlite3.OperationalError) no such table: Cab_Data_3\n",
      "[SQL: SELECT * FROM Cab_Data_3;]\n",
      "(Background on this error at: https://sqlalche.me/e/20/e3q8)\n"
     ]
    }
   ],
   "source": [
    "%%sql\n",
    "SELECT * FROM Cab_Data_3;"
   ]
  },
  {
   "cell_type": "markdown",
   "id": "940ed915",
   "metadata": {},
   "source": [
    "Didn't seem to work. Back to the first option."
   ]
  },
  {
   "cell_type": "code",
   "execution_count": 52,
   "id": "e4653a7b",
   "metadata": {},
   "outputs": [
    {
     "name": "stdout",
     "output_type": "stream",
     "text": [
      " * sqlite://\n",
      "(sqlite3.OperationalError) no such table: Cab_Data.csv\n",
      "[SQL: SELECT * FROM Cab_Data.csv;]\n",
      "(Background on this error at: https://sqlalche.me/e/20/e3q8)\n"
     ]
    }
   ],
   "source": [
    "%%sql\n",
    "SELECT * FROM Cab_Data.csv;"
   ]
  },
  {
   "cell_type": "markdown",
   "id": "440b93a1",
   "metadata": {},
   "source": [
    "I am going to give up now and start again at a later time as I think my brain is fried. "
   ]
  }
 ],
 "metadata": {
  "kernelspec": {
   "display_name": "Python 3 (ipykernel)",
   "language": "python",
   "name": "python3"
  },
  "language_info": {
   "codemirror_mode": {
    "name": "ipython",
    "version": 3
   },
   "file_extension": ".py",
   "mimetype": "text/x-python",
   "name": "python",
   "nbconvert_exporter": "python",
   "pygments_lexer": "ipython3",
   "version": "3.9.13"
  }
 },
 "nbformat": 4,
 "nbformat_minor": 5
}
