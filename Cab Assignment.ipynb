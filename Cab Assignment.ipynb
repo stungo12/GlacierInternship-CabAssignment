{
 "cells": [
  {
   "cell_type": "markdown",
   "id": "7a6bbf16-0ddb-47ca-ae17-05d80945f7a9",
   "metadata": {},
   "source": [
    "# Cab Assignment\n"
   ]
  },
  {
   "cell_type": "markdown",
   "id": "34be75aa-6e81-4682-8efb-77dafad6fc9d",
   "metadata": {},
   "source": [
    "This assignment is looking at XZY cab's data to see if there is anything that can be gleaned to improve the business.\n"
   ]
  },
  {
   "cell_type": "markdown",
   "id": "05caa086-ca6b-4397-9a7d-8d949711690f",
   "metadata": {},
   "source": [
    "The EDA process was described in depth in this article from Adobe's website [here](https://experienceleague.adobe.com/docs/experience-platform/data-science-workspace/jupyterlab/eda-notebook.html?lang=en)"
   ]
  },
  {
   "cell_type": "markdown",
   "id": "d999f3d4-29e7-4561-bd13-87828227c532",
   "metadata": {},
   "source": [
    "More help on using Jupyter Notebook [here](https://www.dataquest.io/blog/jupyter-notebook-tutorial/)"
   ]
  },
  {
   "cell_type": "markdown",
   "id": "01d38aed-4bca-48f2-8e01-c62f80d1336b",
   "metadata": {},
   "source": [
    "How to get SQL on Jupyter Notebook [here](https://towardsdatascience.com/how-to-run-sql-queries-from-a-jupyter-notebook-aaa18e59e7bc)"
   ]
  },
  {
   "cell_type": "markdown",
   "id": "ecb0481c-96c1-49dc-ad46-fc8b10e97af0",
   "metadata": {},
   "source": [
    "[Converting CSV files to SQL in Jupyter Notebook](https://ericthansen.medium.com/turning-csvs-into-sqlite-tables-with-python-faa921aace74)"
   ]
  },
  {
   "cell_type": "markdown",
   "id": "f57c0da3-f837-408b-8ea7-82c6ad66bf9d",
   "metadata": {},
   "source": [
    "The first step is to add the cab company's data to Jupyter Notebooks to be able to process it."
   ]
  },
  {
   "cell_type": "code",
   "execution_count": 2,
   "id": "54653306-ceb1-4677-89b0-5bbde89ed06f",
   "metadata": {},
   "outputs": [
    {
     "name": "stdout",
     "output_type": "stream",
     "text": [
      "Requirement already satisfied: colorama in c:\\users\\dave\\anaconda3\\lib\\site-packages (0.4.5)\n",
      "Requirement already satisfied: chart_studio in c:\\users\\dave\\anaconda3\\lib\\site-packages (1.1.0)\n",
      "Requirement already satisfied: plotly in c:\\users\\dave\\anaconda3\\lib\\site-packages (from chart_studio) (5.9.0)\n",
      "Requirement already satisfied: six in c:\\users\\dave\\anaconda3\\lib\\site-packages (from chart_studio) (1.16.0)\n",
      "Requirement already satisfied: retrying>=1.3.3 in c:\\users\\dave\\anaconda3\\lib\\site-packages (from chart_studio) (1.3.4)\n",
      "Requirement already satisfied: requests in c:\\users\\dave\\anaconda3\\lib\\site-packages (from chart_studio) (2.28.1)\n",
      "Requirement already satisfied: tenacity>=6.2.0 in c:\\users\\dave\\anaconda3\\lib\\site-packages (from plotly->chart_studio) (8.0.1)\n",
      "Requirement already satisfied: charset-normalizer<3,>=2 in c:\\users\\dave\\anaconda3\\lib\\site-packages (from requests->chart_studio) (2.0.4)\n",
      "Requirement already satisfied: certifi>=2017.4.17 in c:\\users\\dave\\anaconda3\\lib\\site-packages (from requests->chart_studio) (2022.12.7)\n",
      "Requirement already satisfied: urllib3<1.27,>=1.21.1 in c:\\users\\dave\\anaconda3\\lib\\site-packages (from requests->chart_studio) (1.26.11)\n",
      "Requirement already satisfied: idna<4,>=2.5 in c:\\users\\dave\\anaconda3\\lib\\site-packages (from requests->chart_studio) (3.3)\n"
     ]
    }
   ],
   "source": [
    "!pip install colorama\n",
    "!pip install chart_studio\n",
    "import chart_studio.plotly as py\n",
    "import plotly.graph_objs as go\n",
    "from plotly.offline import iplot\n",
    "from scipy import stats\n",
    "import numpy as np\n",
    "import warnings\n",
    "warnings.filterwarnings('ignore')\n",
    "from scipy.stats import pearsonr\n",
    "import matplotlib.pyplot as plt\n",
    "from scipy.stats import pearsonr\n",
    "import pandas as pd\n",
    "import math\n",
    "import re\n",
    "import seaborn as sns\n",
    "from datetime import datetime\n",
    "import colorama\n",
    "from colorama import Fore, Style"
   ]
  },
  {
   "cell_type": "code",
   "execution_count": 3,
   "id": "8638e82d-c7d4-4b47-a28e-c6d98fa49ff0",
   "metadata": {},
   "outputs": [],
   "source": [
    "pd.set_option('display.max_columns', None)\n",
    "pd.set_option('display.max_rows', None)\n",
    "pd.set_option('display.width', 1000)\n",
    "pd.set_option('display.expand_frame_repr', False)\n",
    "pd.set_option('display.max_colwidth', -1)"
   ]
  },
  {
   "cell_type": "code",
   "execution_count": 35,
   "id": "76135595-b4c6-40b5-9424-9f6a4e8567e3",
   "metadata": {},
   "outputs": [
    {
     "ename": "NameError",
     "evalue": "name 'Cab_Data' is not defined",
     "output_type": "error",
     "traceback": [
      "\u001b[1;31m---------------------------------------------------------------------------\u001b[0m",
      "\u001b[1;31mNameError\u001b[0m                                 Traceback (most recent call last)",
      "\u001b[1;32m~\\AppData\\Local\\Temp\\ipykernel_10152\\1944165433.py\u001b[0m in \u001b[0;36m<module>\u001b[1;34m\u001b[0m\n\u001b[0;32m      6\u001b[0m          \u001b[0mcurrdf\u001b[0m \u001b[1;33m=\u001b[0m \u001b[0mpd\u001b[0m\u001b[1;33m.\u001b[0m\u001b[0mread_csv\u001b[0m\u001b[1;33m(\u001b[0m\u001b[0mos\u001b[0m\u001b[1;33m.\u001b[0m\u001b[0mpath\u001b[0m\u001b[1;33m.\u001b[0m\u001b[0mjoin\u001b[0m\u001b[1;33m(\u001b[0m\u001b[0mdir_name\u001b[0m\u001b[1;33m,\u001b[0m \u001b[0mcurrfile\u001b[0m\u001b[1;33m)\u001b[0m\u001b[1;33m,\u001b[0m \u001b[0mheader\u001b[0m\u001b[1;33m=\u001b[0m\u001b[1;36m0\u001b[0m\u001b[1;33m)\u001b[0m\u001b[1;33m\u001b[0m\u001b[1;33m\u001b[0m\u001b[0m\n\u001b[0;32m      7\u001b[0m          \u001b[0mdfs\u001b[0m\u001b[1;33m[\u001b[0m\u001b[0mcurrfile\u001b[0m\u001b[1;33m]\u001b[0m\u001b[1;33m=\u001b[0m\u001b[0mcurrdf\u001b[0m\u001b[1;33m\u001b[0m\u001b[1;33m\u001b[0m\u001b[0m\n\u001b[1;32m----> 8\u001b[1;33m \u001b[0mmake_dfs\u001b[0m\u001b[1;33m(\u001b[0m\u001b[0mCab_Data\u001b[0m\u001b[1;33m.\u001b[0m\u001b[0mcsv\u001b[0m\u001b[1;33m)\u001b[0m\u001b[1;33m\u001b[0m\u001b[1;33m\u001b[0m\u001b[0m\n\u001b[0m",
      "\u001b[1;31mNameError\u001b[0m: name 'Cab_Data' is not defined"
     ]
    }
   ],
   "source": []
  },
  {
   "cell_type": "code",
   "execution_count": 32,
   "id": "082a0dd6-3080-478b-8142-576bf9e833c1",
   "metadata": {},
   "outputs": [
    {
     "name": "stdout",
     "output_type": "stream",
     "text": [
      "Collecting ipython-sql\n",
      "  Downloading ipython_sql-0.5.0-py3-none-any.whl (20 kB)\n",
      "Requirement already satisfied: ipython-genutils in c:\\users\\dave\\anaconda3\\lib\\site-packages (from ipython-sql) (0.2.0)\n",
      "Collecting prettytable\n",
      "  Downloading prettytable-3.6.0-py3-none-any.whl (27 kB)\n",
      "Collecting sqlparse\n",
      "  Downloading sqlparse-0.4.3-py3-none-any.whl (42 kB)\n",
      "     -------------------------------------- 42.8/42.8 kB 692.1 kB/s eta 0:00:00\n",
      "Requirement already satisfied: six in c:\\users\\dave\\anaconda3\\lib\\site-packages (from ipython-sql) (1.16.0)\n",
      "Collecting sqlalchemy>=2.0\n",
      "  Downloading SQLAlchemy-2.0.5.post1-cp39-cp39-win_amd64.whl (2.0 MB)\n",
      "     ---------------------------------------- 2.0/2.0 MB 8.3 MB/s eta 0:00:00\n",
      "Requirement already satisfied: ipython in c:\\users\\dave\\anaconda3\\lib\\site-packages (from ipython-sql) (7.31.1)\n",
      "Requirement already satisfied: greenlet!=0.4.17 in c:\\users\\dave\\anaconda3\\lib\\site-packages (from sqlalchemy>=2.0->ipython-sql) (1.1.1)\n",
      "Requirement already satisfied: typing-extensions>=4.2.0 in c:\\users\\dave\\anaconda3\\lib\\site-packages (from sqlalchemy>=2.0->ipython-sql) (4.3.0)\n",
      "Requirement already satisfied: pygments in c:\\users\\dave\\anaconda3\\lib\\site-packages (from ipython->ipython-sql) (2.11.2)\n",
      "Requirement already satisfied: colorama in c:\\users\\dave\\anaconda3\\lib\\site-packages (from ipython->ipython-sql) (0.4.5)\n",
      "Requirement already satisfied: prompt-toolkit!=3.0.0,!=3.0.1,<3.1.0,>=2.0.0 in c:\\users\\dave\\anaconda3\\lib\\site-packages (from ipython->ipython-sql) (3.0.20)\n",
      "Requirement already satisfied: decorator in c:\\users\\dave\\anaconda3\\lib\\site-packages (from ipython->ipython-sql) (5.1.1)\n",
      "Requirement already satisfied: jedi>=0.16 in c:\\users\\dave\\anaconda3\\lib\\site-packages (from ipython->ipython-sql) (0.18.1)\n",
      "Requirement already satisfied: backcall in c:\\users\\dave\\anaconda3\\lib\\site-packages (from ipython->ipython-sql) (0.2.0)\n",
      "Requirement already satisfied: matplotlib-inline in c:\\users\\dave\\anaconda3\\lib\\site-packages (from ipython->ipython-sql) (0.1.6)\n",
      "Requirement already satisfied: setuptools>=18.5 in c:\\users\\dave\\anaconda3\\lib\\site-packages (from ipython->ipython-sql) (63.4.1)\n",
      "Requirement already satisfied: pickleshare in c:\\users\\dave\\anaconda3\\lib\\site-packages (from ipython->ipython-sql) (0.7.5)\n",
      "Requirement already satisfied: traitlets>=4.2 in c:\\users\\dave\\anaconda3\\lib\\site-packages (from ipython->ipython-sql) (5.1.1)\n",
      "Requirement already satisfied: wcwidth in c:\\users\\dave\\anaconda3\\lib\\site-packages (from prettytable->ipython-sql) (0.2.5)\n",
      "Requirement already satisfied: parso<0.9.0,>=0.8.0 in c:\\users\\dave\\anaconda3\\lib\\site-packages (from jedi>=0.16->ipython->ipython-sql) (0.8.3)\n",
      "Installing collected packages: sqlparse, sqlalchemy, prettytable, ipython-sql\n",
      "  Attempting uninstall: sqlalchemy\n",
      "    Found existing installation: SQLAlchemy 1.4.39\n",
      "    Uninstalling SQLAlchemy-1.4.39:\n",
      "      Successfully uninstalled SQLAlchemy-1.4.39\n",
      "Successfully installed ipython-sql-0.5.0 prettytable-3.6.0 sqlalchemy-2.0.5.post1 sqlparse-0.4.3\n"
     ]
    }
   ],
   "source": [
    "!pip install ipython-sql\n",
    "%load_ext sql\n",
    "%sql sqlite://"
   ]
  },
  {
   "cell_type": "code",
   "execution_count": 5,
   "id": "42f68dc2-a097-47a2-a388-d5ef8eeb28a7",
   "metadata": {},
   "outputs": [],
   "source": [
    "data = pd.read_csv('Cab_Data.csv')"
   ]
  },
  {
   "cell_type": "code",
   "execution_count": 6,
   "id": "87b7f996-4ba9-4078-859d-d088f862f1b2",
   "metadata": {},
   "outputs": [
    {
     "name": "stderr",
     "output_type": "stream",
     "text": [
      "IOPub data rate exceeded.\n",
      "The notebook server will temporarily stop sending output\n",
      "to the client in order to avoid crashing it.\n",
      "To change this limit, set the config variable\n",
      "`--NotebookApp.iopub_data_rate_limit`.\n",
      "\n",
      "Current values:\n",
      "NotebookApp.iopub_data_rate_limit=1000000.0 (bytes/sec)\n",
      "NotebookApp.rate_limit_window=3.0 (secs)\n",
      "\n"
     ]
    }
   ],
   "source": [
    "print(data)"
   ]
  },
  {
   "cell_type": "code",
   "execution_count": null,
   "id": "9eebef94",
   "metadata": {},
   "outputs": [],
   "source": []
  }
 ],
 "metadata": {
  "kernelspec": {
   "display_name": "Python 3 (ipykernel)",
   "language": "python",
   "name": "python3"
  },
  "language_info": {
   "codemirror_mode": {
    "name": "ipython",
    "version": 3
   },
   "file_extension": ".py",
   "mimetype": "text/x-python",
   "name": "python",
   "nbconvert_exporter": "python",
   "pygments_lexer": "ipython3",
   "version": "3.9.13"
  }
 },
 "nbformat": 4,
 "nbformat_minor": 5
}
